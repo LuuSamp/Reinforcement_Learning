{
 "cells": [
  {
   "cell_type": "code",
   "execution_count": 6,
   "metadata": {},
   "outputs": [],
   "source": [
    "from ollama import chat\n",
    "from pydantic import BaseModel, Field, field_validator\n",
    "from typing import List, Optional, Union, Literal"
   ]
  },
  {
   "cell_type": "code",
   "execution_count": null,
   "metadata": {},
   "outputs": [],
   "source": []
  },
  {
   "cell_type": "code",
   "execution_count": null,
   "metadata": {},
   "outputs": [],
   "source": [
    "class ClassifierChoices(BaseModel):\n",
    "    algorithm: Literal[\"LogisticRegression\", \"SVM\", \"RandomForest\", \"DecisionTree\", \"KNN\"]"
   ]
  },
  {
   "cell_type": "code",
   "execution_count": 30,
   "metadata": {},
   "outputs": [],
   "source": [
    "class Agent:\n",
    "    def __init__(self, model=\"llama3.2\", temperature=1.0):\n",
    "        self.model = model\n",
    "        self.temperature = temperature\n",
    "        self.history = []\n",
    "        self.system_instructions = \"\"\n",
    "\n",
    "    def chat(self, message, format=\"plain\"):\n",
    "        self.history.append({\n",
    "            \"role\": \"user\",\n",
    "            \"content\": f\"{self.system_instructions} {message}\"\n",
    "        })\n",
    "        response = chat(\n",
    "            model=self.model,\n",
    "            messages=self.history,\n",
    "            format=format,\n",
    "            options={\"temperature\": self.temperature}\n",
    "        )\n",
    "        self.history.append(response[\"message\"])\n",
    "        if len(self.history) > 10:\n",
    "            self.history.pop(0)\n",
    "        return response[\"message\"][\"content\"]\n"
   ]
  },
  {
   "cell_type": "code",
   "execution_count": 41,
   "metadata": {},
   "outputs": [],
   "source": [
    "agent = Agent()\n",
    "response = agent.chat(\"Please, choose a classifier\", ClassifierChoices.model_json_schema())"
   ]
  },
  {
   "cell_type": "code",
   "execution_count": null,
   "metadata": {},
   "outputs": [],
   "source": [
    "class Coder(Agent):\n",
    "    def __init__(self, model=\"llama3.2-coder\", temperature=1.0):\n",
    "        super().__init__(model, temperature)\n",
    "        self.system_instructions = \"\"\n",
    "        \n",
    "    \n",
    "    def chat(self, message):\n",
    "        return super().chat(message)\n"
   ]
  }
 ],
 "metadata": {
  "kernelspec": {
   "display_name": "Python 3",
   "language": "python",
   "name": "python3"
  },
  "language_info": {
   "codemirror_mode": {
    "name": "ipython",
    "version": 3
   },
   "file_extension": ".py",
   "mimetype": "text/x-python",
   "name": "python",
   "nbconvert_exporter": "python",
   "pygments_lexer": "ipython3",
   "version": "3.11.9"
  }
 },
 "nbformat": 4,
 "nbformat_minor": 2
}
